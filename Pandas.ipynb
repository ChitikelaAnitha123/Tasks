{
  "nbformat": 4,
  "nbformat_minor": 0,
  "metadata": {
    "colab": {
      "provenance": [],
      "authorship_tag": "ABX9TyNKtOmaILAJ4xOKClzea/Gn",
      "include_colab_link": true
    },
    "kernelspec": {
      "name": "python3",
      "display_name": "Python 3"
    },
    "language_info": {
      "name": "python"
    }
  },
  "cells": [
    {
      "cell_type": "markdown",
      "metadata": {
        "id": "view-in-github",
        "colab_type": "text"
      },
      "source": [
        "<a href=\"https://colab.research.google.com/github/ChitikelaAnitha123/Tasks/blob/main/Pandas.ipynb\" target=\"_parent\"><img src=\"https://colab.research.google.com/assets/colab-badge.svg\" alt=\"Open In Colab\"/></a>"
      ]
    },
    {
      "cell_type": "code",
      "execution_count": null,
      "metadata": {
        "colab": {
          "base_uri": "https://localhost:8080/"
        },
        "id": "6Qv6ChZdGkyG",
        "outputId": "c40d1abb-4537-4272-97f7-275f847de37c"
      },
      "outputs": [
        {
          "output_type": "stream",
          "name": "stdout",
          "text": [
            "        Name  Age  Gender\n",
            "1  chitikela   30    Male\n",
            "3  sangeetha   28    Male\n",
            "4      prema   35  Female\n",
            "        Name  Age  Gender         City\n",
            "0     Anitha   21  Female     New York\n",
            "1  chitikela   30    Male  Los Angeles\n",
            "2    deepika   22  FeMale      Chicago\n",
            "3  sangeetha   28    Male        Miami\n",
            "4      prema   35  Female      Seattle\n",
            "         Age\n",
            "Gender      \n",
            "FeMale  22.0\n",
            "Female  28.0\n",
            "Male    29.0\n",
            "        Name  Age  Gender         City\n",
            "0     Anitha   21  Female     New York\n",
            "2    deepika   22  FeMale      Chicago\n",
            "3  sangeetha   28    Male        Miami\n",
            "1  chitikela   30    Male  Los Angeles\n",
            "4      prema   35  Female      Seattle\n",
            "        Name  Age  Gender         City\n",
            "0     Anitha   26  Female     New York\n",
            "1  chitikela   35    Male  Los Angeles\n",
            "2    deepika   27  FeMale      Chicago\n",
            "3  sangeetha   33    Male        Miami\n",
            "4      prema   40  Female      Seattle\n",
            "Gender     FeMale  Female  Male\n",
            "Name                           \n",
            "Anitha        NaN    26.0   NaN\n",
            "chitikela     NaN     NaN  35.0\n",
            "deepika      27.0     NaN   NaN\n",
            "prema         NaN    40.0   NaN\n",
            "sangeetha     NaN     NaN  33.0\n"
          ]
        }
      ],
      "source": [
        "import pandas as pd\n",
        "\n",
        "# Sample DataFrame\n",
        "data = { 'Name': ['Anitha', 'chitikela', 'deepika', 'sangeetha', 'prema'], 'Age': [21, 30, 22, 28, 35], 'Gender': ['Female', 'Male', 'FeMale', 'FeMale', 'male'] }\n",
        "\n",
        "df = pd.DataFrame(data)\n",
        "\n",
        "# Filter rows where Age is greater than 25\n",
        "filtered_df = df[df['Age'] > 25]\n",
        "print(filtered_df)\n",
        "\n",
        "df['City'] = ['New York', 'Los Angeles', 'Chicago', 'Miami', 'Seattle']\n",
        "print(df)\n",
        "#Aggregation and grouping\n",
        "grouped_df = df.groupby('Gender').agg({'Age': 'mean'})\n",
        "print(grouped_df)\n",
        "# Sort the data by Age in ascending order\n",
        "sorted_df = df.sort_values(by='Age')\n",
        "print(sorted_df)\n",
        "#Data transformation\n",
        "df['Age'] = df['Age'].apply(lambda x: x + 5)\n",
        "print(df)\n",
        "#Reshaping data\n",
        "pivot_df = df.pivot(index='Name', columns='Gender', values='Age')\n",
        "print(pivot_df)"
      ]
    },
    {
      "cell_type": "code",
      "source": [
        "import pandas as pd\n",
        "\n",
        "\n",
        "\n",
        "d = {\n",
        "\n",
        "    'id': ['1', '2', '3', '4', '5'],\n",
        "\n",
        "    'student_name': ['anitha', 'Karthik', 'Deepika', 'Tanu', 'Ravi']\n",
        "\n",
        "}\n",
        "\n",
        "df1 = pd.DataFrame(d, columns=['id', 'student_name'])\n",
        "\n",
        "print(df1)\n",
        "\n",
        "import pandas as pd\n",
        "\n",
        "\n",
        "\n",
        "data = {\n",
        "\n",
        "    'id': ['4', '5', '6', '7', '8'],\n",
        "\n",
        "    'student_name': ['Elizebeth', 'Imarn', 'Cherry', 'Darani', 'Anu']\n",
        "\n",
        "}\n",
        "\n",
        "df2 = pd.DataFrame(data, columns=['id', 'student_name'])\n",
        "\n",
        "print(df2)\n",
        "\n",
        "pd.merge(df1, df2, on='id')\n",
        "print(pd.concat([df1, df2]))"
      ],
      "metadata": {
        "colab": {
          "base_uri": "https://localhost:8080/"
        },
        "id": "4QsYt14Cd6q1",
        "outputId": "895743c5-7e88-41fb-b4b0-b7acdaccd252"
      },
      "execution_count": null,
      "outputs": [
        {
          "output_type": "stream",
          "name": "stdout",
          "text": [
            "  id student_name\n",
            "0  1       anitha\n",
            "1  2      Karthik\n",
            "2  3      Deepika\n",
            "3  4         Tanu\n",
            "4  5         Ravi\n",
            "  id student_name\n",
            "0  4    Elizebeth\n",
            "1  5        Imarn\n",
            "2  6       Cherry\n",
            "3  7       Darani\n",
            "4  8          Anu\n",
            "  id student_name\n",
            "0  1       anitha\n",
            "1  2      Karthik\n",
            "2  3      Deepika\n",
            "3  4         Tanu\n",
            "4  5         Ravi\n",
            "0  4    Elizebeth\n",
            "1  5        Imarn\n",
            "2  6       Cherry\n",
            "3  7       Darani\n",
            "4  8          Anu\n"
          ]
        }
      ]
    },
    {
      "cell_type": "code",
      "source": [
        "#Handling Missing Data in Pandas\n",
        "\n",
        "\n",
        "\n",
        "import pandas as pd\n",
        "\n",
        "import numpy as np\n",
        "\n",
        "df = pd.DataFrame.from_dict({\n",
        "\n",
        "    'Name': ['Nithin', 'Karthik', 'Evan', 'Kiara', np.NaN],\n",
        "\n",
        "    'Age': [33, 32, 40, 57, np.NaN],\n",
        "\n",
        "    'Location': ['Toronto', 'London', 'New York', np.NaN, np.NaN]\n",
        "\n",
        "})\n",
        "\n",
        "print(df)\n",
        "\n",
        "print(df.isnull())\n",
        "print(df.isnull().sum())\n",
        "df = df.fillna('NA')\n",
        "\n",
        "print(df)\n",
        "\n",
        "\n",
        "\n",
        "df = df.fillna({'Name': 'Someone', 'Age': 25, 'Location': 'USA'})\n",
        "\n",
        "print(df)"
      ],
      "metadata": {
        "colab": {
          "base_uri": "https://localhost:8080/"
        },
        "id": "0ICB4xVbkaQQ",
        "outputId": "abb48bbe-4f7a-433c-8bbc-2315455bfbe0"
      },
      "execution_count": null,
      "outputs": [
        {
          "output_type": "stream",
          "name": "stdout",
          "text": [
            "      Name   Age  Location\n",
            "0   Nithin  33.0   Toronto\n",
            "1  Karthik  32.0    London\n",
            "2     Evan  40.0  New York\n",
            "3    Kiara  57.0       NaN\n",
            "4      NaN   NaN       NaN\n",
            "    Name    Age  Location\n",
            "0  False  False     False\n",
            "1  False  False     False\n",
            "2  False  False     False\n",
            "3  False  False      True\n",
            "4   True   True      True\n",
            "Name        1\n",
            "Age         1\n",
            "Location    2\n",
            "dtype: int64\n",
            "      Name   Age  Location\n",
            "0   Nithin  33.0   Toronto\n",
            "1  Karthik  32.0    London\n",
            "2     Evan  40.0  New York\n",
            "3    Kiara  57.0        NA\n",
            "4       NA    NA        NA\n",
            "      Name   Age  Location\n",
            "0   Nithin  33.0   Toronto\n",
            "1  Karthik  32.0    London\n",
            "2     Evan  40.0  New York\n",
            "3    Kiara  57.0        NA\n",
            "4       NA    NA        NA\n"
          ]
        }
      ]
    },
    {
      "cell_type": "code",
      "source": [
        "#handling duplicates\n",
        "import pandas as pd\n",
        "\n",
        "df = pd.DataFrame.from_dict({\n",
        "\n",
        "    'Name': ['Nik', 'Kate', 'Evan', 'Kyra', 'Nik', 'Kate'],\n",
        "\n",
        "    'Age': [33, 32, 40, 57, 33, 32],\n",
        "\n",
        "    'Location': ['Toronto', 'London', 'New York', 'Atlanta', 'Toronto', 'Paris'],\n",
        "\n",
        "    'Date Modified': ['2022-01-01', '2022-02-24', '2022-08-12', '2022-09-12', '2022-01-01', '2022-12-09']\n",
        "\n",
        "})\n",
        "\n",
        "\n",
        "\n",
        "print(df)\n",
        "print(df.duplicated())\n",
        "\n",
        "print(df.duplicated().sum())"
      ],
      "metadata": {
        "colab": {
          "base_uri": "https://localhost:8080/"
        },
        "id": "TT_75EDal5h_",
        "outputId": "42ce3cc0-cf44-463c-fcf8-dd934e910e77"
      },
      "execution_count": null,
      "outputs": [
        {
          "output_type": "stream",
          "name": "stdout",
          "text": [
            "   Name  Age  Location Date Modified\n",
            "0   Nik   33   Toronto    2022-01-01\n",
            "1  Kate   32    London    2022-02-24\n",
            "2  Evan   40  New York    2022-08-12\n",
            "3  Kyra   57   Atlanta    2022-09-12\n",
            "4   Nik   33   Toronto    2022-01-01\n",
            "5  Kate   32     Paris    2022-12-09\n",
            "0    False\n",
            "1    False\n",
            "2    False\n",
            "3    False\n",
            "4     True\n",
            "5    False\n",
            "dtype: bool\n",
            "1\n"
          ]
        }
      ]
    },
    {
      "cell_type": "code",
      "source": [],
      "metadata": {
        "id": "8gVxhFc9kxUD"
      },
      "execution_count": null,
      "outputs": []
    },
    {
      "cell_type": "code",
      "source": [
        "import pandas as pd\n",
        "\n",
        "\n",
        "\n",
        "raw = {\n",
        "\n",
        "    'Name': ['Darell', 'Darell', 'Lilith', 'Lilith', 'Tran', 'Tran', 'Tran',\n",
        "\n",
        "        'Tran', 'John', 'Darell', 'Darell', 'Darell'],\n",
        "\n",
        "    'Position': [2, 1, 1, 4, 2, 4, 3, 1, 3, 2, 4, 3],\n",
        "\n",
        "    'Year': [2009, 2010, 2009, 2010, 2010, 2010, 2011, 2012, 2011, 2013, 2013, 2012],\n",
        "\n",
        "    'Marks':[408, 398, 422, 376, 401, 380, 396, 388, 356, 402, 368, 378]\n",
        "\n",
        "}\n",
        "\n",
        "df = pd.DataFrame(raw)\n",
        "\n",
        "\n",
        "\n",
        "group = df.groupby('Year')\n",
        "\n",
        "print(group.get_group(2010))\n",
        "\n",
        "\n"
      ],
      "metadata": {
        "colab": {
          "base_uri": "https://localhost:8080/"
        },
        "id": "tsvqDbUkglK7",
        "outputId": "5247a1bc-82e1-4e2f-d52d-6d4fa7758416"
      },
      "execution_count": null,
      "outputs": [
        {
          "output_type": "stream",
          "name": "stdout",
          "text": [
            "     Name  Position  Year  Marks\n",
            "1  Darell         1  2010    398\n",
            "3  Lilith         4  2010    376\n",
            "4    Tran         2  2010    401\n",
            "5    Tran         4  2010    380\n",
            "  subject_id student_name\n",
            "0          1       anitha\n",
            "1          2      Karthik\n",
            "2          3      Deepika\n",
            "3          4         Tanu\n",
            "4          5         Ravi\n",
            "0          4    Elizebeth\n",
            "1          5        Imarn\n",
            "2          6       Cherry\n",
            "3          7       Darani\n",
            "4          8          Anu\n"
          ]
        }
      ]
    }
  ]
}