{
 "cells": [
  {
   "cell_type": "code",
   "execution_count": 25,
   "id": "b64b5cf3",
   "metadata": {
    "scrolled": false
   },
   "outputs": [
    {
     "name": "stdout",
     "output_type": "stream",
     "text": [
      "Requirement already satisfied: opendatasets in c:\\users\\chitikelaanitha123\\anaconda3\\lib\\site-packages (0.1.22)\n",
      "Requirement already satisfied: tqdm in c:\\users\\chitikelaanitha123\\anaconda3\\lib\\site-packages (from opendatasets) (4.65.0)\n",
      "Requirement already satisfied: kaggle in c:\\users\\chitikelaanitha123\\anaconda3\\lib\\site-packages (from opendatasets) (1.5.16)\n",
      "Requirement already satisfied: click in c:\\users\\chitikelaanitha123\\anaconda3\\lib\\site-packages (from opendatasets) (8.0.4)\n",
      "Requirement already satisfied: colorama in c:\\users\\chitikelaanitha123\\anaconda3\\lib\\site-packages (from click->opendatasets) (0.4.6)\n",
      "Requirement already satisfied: six>=1.10 in c:\\users\\chitikelaanitha123\\anaconda3\\lib\\site-packages (from kaggle->opendatasets) (1.16.0)\n",
      "Requirement already satisfied: certifi in c:\\users\\chitikelaanitha123\\anaconda3\\lib\\site-packages (from kaggle->opendatasets) (2023.5.7)\n",
      "Requirement already satisfied: python-dateutil in c:\\users\\chitikelaanitha123\\anaconda3\\lib\\site-packages (from kaggle->opendatasets) (2.8.2)\n",
      "Requirement already satisfied: requests in c:\\users\\chitikelaanitha123\\anaconda3\\lib\\site-packages (from kaggle->opendatasets) (2.29.0)\n",
      "Requirement already satisfied: python-slugify in c:\\users\\chitikelaanitha123\\anaconda3\\lib\\site-packages (from kaggle->opendatasets) (5.0.2)\n",
      "Requirement already satisfied: urllib3 in c:\\users\\chitikelaanitha123\\anaconda3\\lib\\site-packages (from kaggle->opendatasets) (1.26.16)\n",
      "Requirement already satisfied: bleach in c:\\users\\chitikelaanitha123\\anaconda3\\lib\\site-packages (from kaggle->opendatasets) (4.1.0)\n",
      "Requirement already satisfied: packaging in c:\\users\\chitikelaanitha123\\anaconda3\\lib\\site-packages (from bleach->kaggle->opendatasets) (23.0)\n",
      "Requirement already satisfied: webencodings in c:\\users\\chitikelaanitha123\\anaconda3\\lib\\site-packages (from bleach->kaggle->opendatasets) (0.5.1)\n",
      "Requirement already satisfied: text-unidecode>=1.3 in c:\\users\\chitikelaanitha123\\anaconda3\\lib\\site-packages (from python-slugify->kaggle->opendatasets) (1.3)\n",
      "Requirement already satisfied: charset-normalizer<4,>=2 in c:\\users\\chitikelaanitha123\\anaconda3\\lib\\site-packages (from requests->kaggle->opendatasets) (2.0.4)\n",
      "Requirement already satisfied: idna<4,>=2.5 in c:\\users\\chitikelaanitha123\\anaconda3\\lib\\site-packages (from requests->kaggle->opendatasets) (3.4)\n"
     ]
    }
   ],
   "source": [
    "!pip install opendatasets"
   ]
  },
  {
   "cell_type": "code",
   "execution_count": null,
   "id": "d6b2126d",
   "metadata": {},
   "outputs": [],
   "source": []
  },
  {
   "cell_type": "code",
   "execution_count": 8,
   "id": "b648ef0d",
   "metadata": {},
   "outputs": [],
   "source": [
    "import opendatasets as od"
   ]
  },
  {
   "cell_type": "code",
   "execution_count": 9,
   "id": "52a880b8",
   "metadata": {},
   "outputs": [
    {
     "name": "stdout",
     "output_type": "stream",
     "text": [
      "Please provide your Kaggle credentials to download this dataset. Learn more: http://bit.ly/kaggle-creds\n",
      "Your Kaggle username: chitikelaanitha123\n",
      "Your Kaggle Key: ········\n",
      "Downloading monthly-food-price-inflation-estimates-by-country.zip to .\\monthly-food-price-inflation-estimates-by-country\n"
     ]
    },
    {
     "name": "stderr",
     "output_type": "stream",
     "text": [
      "100%|██████████████████████████████████████████████████████████████████████████████| 47.0k/47.0k [00:00<00:00, 206kB/s]"
     ]
    },
    {
     "name": "stdout",
     "output_type": "stream",
     "text": [
      "\n"
     ]
    },
    {
     "name": "stderr",
     "output_type": "stream",
     "text": [
      "\n"
     ]
    }
   ],
   "source": [
    "od.download(\"https://www.kaggle.com/datasets/harshalhonde/monthly-food-price-inflation-estimates-by-country\")"
   ]
  },
  {
   "cell_type": "code",
   "execution_count": 16,
   "id": "8efaaedd",
   "metadata": {},
   "outputs": [],
   "source": [
    "import os"
   ]
  },
  {
   "cell_type": "code",
   "execution_count": 19,
   "id": "4fa25799",
   "metadata": {},
   "outputs": [
    {
     "data": {
      "text/plain": [
       "['WLD_RTFP_country_2023-07-31.csv']"
      ]
     },
     "execution_count": 19,
     "metadata": {},
     "output_type": "execute_result"
    }
   ],
   "source": [
    "os.listdir('.\\monthly-food-price-inflation-estimates-by-country')"
   ]
  },
  {
   "cell_type": "code",
   "execution_count": 2,
   "id": "7a5868fa",
   "metadata": {},
   "outputs": [],
   "source": [
    "import pandas as pd\n",
    "import numpy as np\n",
    "import matplotlib.pyplot as plt\n",
    "from sklearn.preprocessing import StandardScaler\n",
    "from sklearn.preprocessing import MinMaxScaler\n",
    "from sklearn.model_selection import train_test_split\n",
    "from sklearn.linear_model import LinearRegression\n",
    "from sklearn.metrics import mean_squared_error"
   ]
  },
  {
   "cell_type": "code",
   "execution_count": 3,
   "id": "13054568",
   "metadata": {},
   "outputs": [
    {
     "name": "stdout",
     "output_type": "stream",
     "text": [
      "     Open  High   Low  Close  Inflation      country ISO3        date\n",
      "0    0.53  0.54  0.53   0.53        NaN  Afghanistan  AFG  2007-01-01\n",
      "1    0.53  0.54  0.53   0.53        NaN  Afghanistan  AFG  2007-02-01\n",
      "2    0.54  0.54  0.53   0.53        NaN  Afghanistan  AFG  2007-03-01\n",
      "3    0.53  0.55  0.53   0.55        NaN  Afghanistan  AFG  2007-04-01\n",
      "4    0.56  0.57  0.55   0.57        NaN  Afghanistan  AFG  2007-05-01\n",
      "..    ...   ...   ...    ...        ...          ...  ...         ...\n",
      "195  1.50  1.52  1.48   1.49       7.92  Afghanistan  AFG  2023-04-01\n",
      "196  1.47  1.48  1.45   1.47       4.15  Afghanistan  AFG  2023-05-01\n",
      "197  1.47  1.48  1.45   1.46      -1.22  Afghanistan  AFG  2023-06-01\n",
      "198  1.44  1.45  1.42   1.43      -3.74  Afghanistan  AFG  2023-07-01\n",
      "199  0.55  0.57  0.54   0.55        NaN      Burundi  BDI  2007-01-01\n",
      "\n",
      "[200 rows x 8 columns]\n"
     ]
    }
   ],
   "source": [
    "food_df=pd.read_csv('WLD_RTFP_country_2023-07-31.csv')\n",
    "print(food_df.head(200))\n",
    "\n",
    "\n",
    "\n"
   ]
  },
  {
   "cell_type": "code",
   "execution_count": 7,
   "id": "65da851c",
   "metadata": {},
   "outputs": [
    {
     "data": {
      "text/plain": [
       "(4723, 8)"
      ]
     },
     "execution_count": 7,
     "metadata": {},
     "output_type": "execute_result"
    }
   ],
   "source": [
    "size=np.shape(food_df)\n",
    "size\n",
    "\n"
   ]
  },
  {
   "cell_type": "code",
   "execution_count": 8,
   "id": "0902db36",
   "metadata": {},
   "outputs": [
    {
     "data": {
      "image/png": "[encoded data removed]",
      "text/plain": [
       "<Figure size 1000x500 with 1 Axes>"
      ]
     },
     "metadata": {},
     "output_type": "display_data"
    }
   ],
   "source": [
    "Inflation=food_df[\"Inflation\"]\n",
    "plt.figure(figsize=(10,5))\n",
    "plt.hist(Inflation,bins=20)\n",
    "plt.show()"
   ]
  },
  {
   "cell_type": "code",
   "execution_count": 62,
   "id": "1313e1ef",
   "metadata": {},
   "outputs": [
    {
     "name": "stdout",
     "output_type": "stream",
     "text": [
      "Skipping, found downloaded files in \".\\diabetes-dataset\" (use force=True to force download)\n"
     ]
    }
   ],
   "source": [
    "od.download(\"https://www.kaggle.com/datasets/akshaydattatraykhare/diabetes-dataset\")"
   ]
  },
  {
   "cell_type": "code",
   "execution_count": 72,
   "id": "56fe3609",
   "metadata": {},
   "outputs": [
    {
     "data": {
      "text/plain": [
       "['.conda',\n",
       " '.condarc',\n",
       " '.continuum',\n",
       " '.ipynb_checkpoints',\n",
       " '.ipython',\n",
       " '.jupyter',\n",
       " '.kaggle',\n",
       " '.matplotlib',\n",
       " '3D Objects',\n",
       " 'anaconda3',\n",
       " 'AppData',\n",
       " 'Application Data',\n",
       " 'Contacts',\n",
       " 'Cookies',\n",
       " 'Desktop',\n",
       " 'diabetes-dataset',\n",
       " 'diabetes.csv',\n",
       " 'Documents',\n",
       " 'Downloads',\n",
       " 'Favorites',\n",
       " 'Links',\n",
       " 'Local Settings',\n",
       " 'monthly-food-price-inflation-estimates-by-country',\n",
       " 'Music',\n",
       " 'My Documents',\n",
       " 'NetHood',\n",
       " 'NTUSER.DAT',\n",
       " 'ntuser.dat.LOG1',\n",
       " 'ntuser.dat.LOG2',\n",
       " 'NTUSER.DAT{089dd711-1d38-11ee-94ce-00155d002201}.TM.blf',\n",
       " 'NTUSER.DAT{089dd711-1d38-11ee-94ce-00155d002201}.TMContainer00000000000000000001.regtrans-ms',\n",
       " 'NTUSER.DAT{089dd711-1d38-11ee-94ce-00155d002201}.TMContainer00000000000000000002.regtrans-ms',\n",
       " 'ntuser.ini',\n",
       " 'OneDrive',\n",
       " 'Pictures',\n",
       " 'PrintHood',\n",
       " 'Recent',\n",
       " 'Saved Games',\n",
       " 'Searches',\n",
       " 'SendTo',\n",
       " 'Start Menu',\n",
       " 'TASK2.ipynb',\n",
       " 'Templates',\n",
       " 'Untitled.ipynb',\n",
       " 'Untitled1.ipynb',\n",
       " 'Untitled2.ipynb',\n",
       " 'Videos',\n",
       " 'WLD_RTFP_country_2023-07-31.csv']"
      ]
     },
     "execution_count": 72,
     "metadata": {},
     "output_type": "execute_result"
    }
   ],
   "source": [
    "os.listdir()"
   ]
  },
  {
   "cell_type": "code",
   "execution_count": 15,
   "id": "d2d40b58",
   "metadata": {},
   "outputs": [
    {
     "name": "stdout",
     "output_type": "stream",
     "text": [
      "     Pregnancies  Glucose  BloodPressure  SkinThickness  Insulin   BMI  \\\n",
      "0              6      148             72             35        0  33.6   \n",
      "1              1       85             66             29        0  26.6   \n",
      "2              8      183             64              0        0  23.3   \n",
      "3              1       89             66             23       94  28.1   \n",
      "4              0      137             40             35      168  43.1   \n",
      "..           ...      ...            ...            ...      ...   ...   \n",
      "763           10      101             76             48      180  32.9   \n",
      "764            2      122             70             27        0  36.8   \n",
      "765            5      121             72             23      112  26.2   \n",
      "766            1      126             60              0        0  30.1   \n",
      "767            1       93             70             31        0  30.4   \n",
      "\n",
      "     DiabetesPedigreeFunction  Age  Outcome  \n",
      "0                       0.627   50        1  \n",
      "1                       0.351   31        0  \n",
      "2                       0.672   32        1  \n",
      "3                       0.167   21        0  \n",
      "4                       2.288   33        1  \n",
      "..                        ...  ...      ...  \n",
      "763                     0.171   63        0  \n",
      "764                     0.340   27        0  \n",
      "765                     0.245   30        0  \n",
      "766                     0.349   47        1  \n",
      "767                     0.315   23        0  \n",
      "\n",
      "[768 rows x 9 columns]\n"
     ]
    }
   ],
   "source": [
    "dia_df=pd.read_csv(\"diabetes.csv\")\n",
    "print(dia_df)\n"
   ]
  },
  {
   "cell_type": "code",
   "execution_count": 59,
   "id": "7614bc79",
   "metadata": {},
   "outputs": [
    {
     "name": "stdout",
     "output_type": "stream",
     "text": [
      "Scaled data:\n",
      " [[ 0.63994726  0.84832379  0.14964075 ...  0.20401277  0.46849198\n",
      "   1.4259954 ]\n",
      " [-0.84488505 -1.12339636 -0.16054575 ... -0.68442195 -0.36506078\n",
      "  -0.19067191]\n",
      " [ 1.23388019  1.94372388 -0.26394125 ... -1.10325546  0.60439732\n",
      "  -0.10558415]\n",
      " ...\n",
      " [ 0.3429808   0.00330087  0.14964075 ... -0.73518964 -0.68519336\n",
      "  -0.27575966]\n",
      " [-0.84488505  0.1597866  -0.47073225 ... -0.24020459 -0.37110101\n",
      "   1.17073215]\n",
      " [-0.84488505 -0.8730192   0.04624525 ... -0.20212881 -0.47378505\n",
      "  -0.87137393]]\n"
     ]
    }
   ],
   "source": [
    "x=dia_df.drop(\"Outcome\",axis=1)\n",
    "y=dia_df[\"Outcome\"]\n",
    "scaler = StandardScaler()\n",
    "X_scaled = scaler.fit_transform(x)\n",
    "print(\"Scaled data:\\n\", X_scaled)\n",
    "\n"
   ]
  },
  {
   "cell_type": "code",
   "execution_count": 61,
   "id": "bb73bc42",
   "metadata": {},
   "outputs": [
    {
     "data": {
      "text/plain": [
       "1.5034270125132327e-17"
      ]
     },
     "execution_count": 61,
     "metadata": {},
     "output_type": "execute_result"
    }
   ],
   "source": [
    "X_scaled[:,2].mean()"
   ]
  },
  {
   "cell_type": "code",
   "execution_count": 20,
   "id": "4c84cb47",
   "metadata": {},
   "outputs": [
    {
     "data": {
      "text/plain": [
       "1.0"
      ]
     },
     "execution_count": 20,
     "metadata": {},
     "output_type": "execute_result"
    }
   ],
   "source": [
    "X_scaled[:,2].std()"
   ]
  },
  {
   "cell_type": "code",
   "execution_count": 22,
   "id": "b6253fb6",
   "metadata": {},
   "outputs": [
    {
     "data": {
      "text/html": [
       "<div>\n",
       "<style scoped>\n",
       "    .dataframe tbody tr th:only-of-type {\n",
       "        vertical-align: middle;\n",
       "    }\n",
       "\n",
       "    .dataframe tbody tr th {\n",
       "        vertical-align: top;\n",
       "    }\n",
       "\n",
       "    .dataframe thead th {\n",
       "        text-align: right;\n",
       "    }\n",
       "</style>\n",
       "<table border=\"1\" class=\"dataframe\">\n",
       "  <thead>\n",
       "    <tr style=\"text-align: right;\">\n",
       "      <th></th>\n",
       "      <th>Pregnancies</th>\n",
       "      <th>Glucose</th>\n",
       "      <th>BloodPressure</th>\n",
       "      <th>SkinThickness</th>\n",
       "      <th>Insulin</th>\n",
       "      <th>BMI</th>\n",
       "      <th>DiabetesPedigreeFunction</th>\n",
       "      <th>Age</th>\n",
       "      <th>Outcome</th>\n",
       "    </tr>\n",
       "  </thead>\n",
       "  <tbody>\n",
       "    <tr>\n",
       "      <th>0</th>\n",
       "      <td>6</td>\n",
       "      <td>148</td>\n",
       "      <td>72</td>\n",
       "      <td>35</td>\n",
       "      <td>0</td>\n",
       "      <td>33.6</td>\n",
       "      <td>0.627</td>\n",
       "      <td>50</td>\n",
       "      <td>1</td>\n",
       "    </tr>\n",
       "    <tr>\n",
       "      <th>1</th>\n",
       "      <td>1</td>\n",
       "      <td>85</td>\n",
       "      <td>66</td>\n",
       "      <td>29</td>\n",
       "      <td>0</td>\n",
       "      <td>26.6</td>\n",
       "      <td>0.351</td>\n",
       "      <td>31</td>\n",
       "      <td>0</td>\n",
       "    </tr>\n",
       "    <tr>\n",
       "      <th>2</th>\n",
       "      <td>8</td>\n",
       "      <td>183</td>\n",
       "      <td>64</td>\n",
       "      <td>0</td>\n",
       "      <td>0</td>\n",
       "      <td>23.3</td>\n",
       "      <td>0.672</td>\n",
       "      <td>32</td>\n",
       "      <td>1</td>\n",
       "    </tr>\n",
       "    <tr>\n",
       "      <th>3</th>\n",
       "      <td>1</td>\n",
       "      <td>89</td>\n",
       "      <td>66</td>\n",
       "      <td>23</td>\n",
       "      <td>94</td>\n",
       "      <td>28.1</td>\n",
       "      <td>0.167</td>\n",
       "      <td>21</td>\n",
       "      <td>0</td>\n",
       "    </tr>\n",
       "    <tr>\n",
       "      <th>4</th>\n",
       "      <td>0</td>\n",
       "      <td>137</td>\n",
       "      <td>40</td>\n",
       "      <td>35</td>\n",
       "      <td>168</td>\n",
       "      <td>43.1</td>\n",
       "      <td>2.288</td>\n",
       "      <td>33</td>\n",
       "      <td>1</td>\n",
       "    </tr>\n",
       "  </tbody>\n",
       "</table>\n",
       "</div>"
      ],
      "text/plain": [
       "   Pregnancies  Glucose  BloodPressure  SkinThickness  Insulin   BMI  \\\n",
       "0            6      148             72             35        0  33.6   \n",
       "1            1       85             66             29        0  26.6   \n",
       "2            8      183             64              0        0  23.3   \n",
       "3            1       89             66             23       94  28.1   \n",
       "4            0      137             40             35      168  43.1   \n",
       "\n",
       "   DiabetesPedigreeFunction  Age  Outcome  \n",
       "0                     0.627   50        1  \n",
       "1                     0.351   31        0  \n",
       "2                     0.672   32        1  \n",
       "3                     0.167   21        0  \n",
       "4                     2.288   33        1  "
      ]
     },
     "execution_count": 22,
     "metadata": {},
     "output_type": "execute_result"
    }
   ],
   "source": [
    "dia_df.head()"
   ]
  },
  {
   "cell_type": "code",
   "execution_count": 24,
   "id": "732d8a89",
   "metadata": {},
   "outputs": [
    {
     "data": {
      "text/html": [
       "<div>\n",
       "<style scoped>\n",
       "    .dataframe tbody tr th:only-of-type {\n",
       "        vertical-align: middle;\n",
       "    }\n",
       "\n",
       "    .dataframe tbody tr th {\n",
       "        vertical-align: top;\n",
       "    }\n",
       "\n",
       "    .dataframe thead th {\n",
       "        text-align: right;\n",
       "    }\n",
       "</style>\n",
       "<table border=\"1\" class=\"dataframe\">\n",
       "  <thead>\n",
       "    <tr style=\"text-align: right;\">\n",
       "      <th></th>\n",
       "      <th>Pregnancies</th>\n",
       "      <th>Glucose</th>\n",
       "      <th>BloodPressure</th>\n",
       "      <th>SkinThickness</th>\n",
       "      <th>Insulin</th>\n",
       "      <th>BMI</th>\n",
       "      <th>DiabetesPedigreeFunction</th>\n",
       "      <th>Age</th>\n",
       "      <th>Outcome</th>\n",
       "    </tr>\n",
       "  </thead>\n",
       "  <tbody>\n",
       "    <tr>\n",
       "      <th>763</th>\n",
       "      <td>10</td>\n",
       "      <td>101</td>\n",
       "      <td>76</td>\n",
       "      <td>48</td>\n",
       "      <td>180</td>\n",
       "      <td>32.9</td>\n",
       "      <td>0.171</td>\n",
       "      <td>63</td>\n",
       "      <td>0</td>\n",
       "    </tr>\n",
       "    <tr>\n",
       "      <th>764</th>\n",
       "      <td>2</td>\n",
       "      <td>122</td>\n",
       "      <td>70</td>\n",
       "      <td>27</td>\n",
       "      <td>0</td>\n",
       "      <td>36.8</td>\n",
       "      <td>0.340</td>\n",
       "      <td>27</td>\n",
       "      <td>0</td>\n",
       "    </tr>\n",
       "    <tr>\n",
       "      <th>765</th>\n",
       "      <td>5</td>\n",
       "      <td>121</td>\n",
       "      <td>72</td>\n",
       "      <td>23</td>\n",
       "      <td>112</td>\n",
       "      <td>26.2</td>\n",
       "      <td>0.245</td>\n",
       "      <td>30</td>\n",
       "      <td>0</td>\n",
       "    </tr>\n",
       "    <tr>\n",
       "      <th>766</th>\n",
       "      <td>1</td>\n",
       "      <td>126</td>\n",
       "      <td>60</td>\n",
       "      <td>0</td>\n",
       "      <td>0</td>\n",
       "      <td>30.1</td>\n",
       "      <td>0.349</td>\n",
       "      <td>47</td>\n",
       "      <td>1</td>\n",
       "    </tr>\n",
       "    <tr>\n",
       "      <th>767</th>\n",
       "      <td>1</td>\n",
       "      <td>93</td>\n",
       "      <td>70</td>\n",
       "      <td>31</td>\n",
       "      <td>0</td>\n",
       "      <td>30.4</td>\n",
       "      <td>0.315</td>\n",
       "      <td>23</td>\n",
       "      <td>0</td>\n",
       "    </tr>\n",
       "  </tbody>\n",
       "</table>\n",
       "</div>"
      ],
      "text/plain": [
       "     Pregnancies  Glucose  BloodPressure  SkinThickness  Insulin   BMI  \\\n",
       "763           10      101             76             48      180  32.9   \n",
       "764            2      122             70             27        0  36.8   \n",
       "765            5      121             72             23      112  26.2   \n",
       "766            1      126             60              0        0  30.1   \n",
       "767            1       93             70             31        0  30.4   \n",
       "\n",
       "     DiabetesPedigreeFunction  Age  Outcome  \n",
       "763                     0.171   63        0  \n",
       "764                     0.340   27        0  \n",
       "765                     0.245   30        0  \n",
       "766                     0.349   47        1  \n",
       "767                     0.315   23        0  "
      ]
     },
     "execution_count": 24,
     "metadata": {},
     "output_type": "execute_result"
    }
   ],
   "source": [
    "dia_df.tail()"
   ]
  },
  {
   "cell_type": "code",
   "execution_count": 25,
   "id": "a65a6454",
   "metadata": {},
   "outputs": [
    {
     "data": {
      "text/plain": [
       "Pregnancies                   int64\n",
       "Glucose                       int64\n",
       "BloodPressure                 int64\n",
       "SkinThickness                 int64\n",
       "Insulin                       int64\n",
       "BMI                         float64\n",
       "DiabetesPedigreeFunction    float64\n",
       "Age                           int64\n",
       "Outcome                       int64\n",
       "dtype: object"
      ]
     },
     "execution_count": 25,
     "metadata": {},
     "output_type": "execute_result"
    }
   ],
   "source": [
    "dia_df.dtypes"
   ]
  },
  {
   "cell_type": "code",
   "execution_count": 27,
   "id": "fc9bb337",
   "metadata": {},
   "outputs": [
    {
     "data": {
      "text/html": [
       "<div>\n",
       "<style scoped>\n",
       "    .dataframe tbody tr th:only-of-type {\n",
       "        vertical-align: middle;\n",
       "    }\n",
       "\n",
       "    .dataframe tbody tr th {\n",
       "        vertical-align: top;\n",
       "    }\n",
       "\n",
       "    .dataframe thead th {\n",
       "        text-align: right;\n",
       "    }\n",
       "</style>\n",
       "<table border=\"1\" class=\"dataframe\">\n",
       "  <thead>\n",
       "    <tr style=\"text-align: right;\">\n",
       "      <th></th>\n",
       "      <th>Glucose</th>\n",
       "      <th>BloodPressure</th>\n",
       "    </tr>\n",
       "  </thead>\n",
       "  <tbody>\n",
       "    <tr>\n",
       "      <th>243</th>\n",
       "      <td>119</td>\n",
       "      <td>50</td>\n",
       "    </tr>\n",
       "    <tr>\n",
       "      <th>252</th>\n",
       "      <td>90</td>\n",
       "      <td>80</td>\n",
       "    </tr>\n",
       "    <tr>\n",
       "      <th>520</th>\n",
       "      <td>68</td>\n",
       "      <td>70</td>\n",
       "    </tr>\n",
       "    <tr>\n",
       "      <th>536</th>\n",
       "      <td>105</td>\n",
       "      <td>90</td>\n",
       "    </tr>\n",
       "    <tr>\n",
       "      <th>621</th>\n",
       "      <td>92</td>\n",
       "      <td>76</td>\n",
       "    </tr>\n",
       "  </tbody>\n",
       "</table>\n",
       "</div>"
      ],
      "text/plain": [
       "     Glucose  BloodPressure\n",
       "243      119             50\n",
       "252       90             80\n",
       "520       68             70\n",
       "536      105             90\n",
       "621       92             76"
      ]
     },
     "execution_count": 27,
     "metadata": {},
     "output_type": "execute_result"
    }
   ],
   "source": [
    "X=dia_df.iloc[:,[1,2]]\n",
    "y=dia_df.iloc[:,5]\n",
    "X_train, X_test, y_train, y_test = train_test_split(X, y, random_state=50)\n",
    "X_train.head()\n"
   ]
  },
  {
   "cell_type": "code",
   "execution_count": 28,
   "id": "32865aa2",
   "metadata": {},
   "outputs": [
    {
     "data": {
      "text/plain": [
       "array([[0.59798995, 0.40983607],\n",
       "       [0.45226131, 0.6557377 ],\n",
       "       [0.34170854, 0.57377049],\n",
       "       ...,\n",
       "       [0.47738693, 0.69672131],\n",
       "       [0.79396985, 0.57377049],\n",
       "       [0.70351759, 0.60655738]])"
      ]
     },
     "execution_count": 28,
     "metadata": {},
     "output_type": "execute_result"
    }
   ],
   "source": [
    "scaler=MinMaxScaler().fit(X_train)\n"
   ]
  },
  {
   "cell_type": "code",
   "execution_count": 30,
   "id": "3aaceb90",
   "metadata": {},
   "outputs": [
    {
     "data": {
      "text/plain": [
       "array([0., 0.])"
      ]
     },
     "execution_count": 30,
     "metadata": {},
     "output_type": "execute_result"
    }
   ],
   "source": [
    "scaler.data_min_"
   ]
  },
  {
   "cell_type": "code",
   "execution_count": 32,
   "id": "b119b8d4",
   "metadata": {},
   "outputs": [
    {
     "data": {
      "text/plain": [
       "array([199., 122.])"
      ]
     },
     "execution_count": 32,
     "metadata": {},
     "output_type": "execute_result"
    }
   ],
   "source": [
    "scaler.data_max_"
   ]
  },
  {
   "cell_type": "code",
   "execution_count": 34,
   "id": "ac376981",
   "metadata": {},
   "outputs": [
    {
     "data": {
      "text/html": [
       "<div>\n",
       "<style scoped>\n",
       "    .dataframe tbody tr th:only-of-type {\n",
       "        vertical-align: middle;\n",
       "    }\n",
       "\n",
       "    .dataframe tbody tr th {\n",
       "        vertical-align: top;\n",
       "    }\n",
       "\n",
       "    .dataframe thead th {\n",
       "        text-align: right;\n",
       "    }\n",
       "</style>\n",
       "<table border=\"1\" class=\"dataframe\">\n",
       "  <thead>\n",
       "    <tr style=\"text-align: right;\">\n",
       "      <th></th>\n",
       "      <th>Glucose</th>\n",
       "      <th>BloodPressure</th>\n",
       "    </tr>\n",
       "  </thead>\n",
       "  <tbody>\n",
       "    <tr>\n",
       "      <th>count</th>\n",
       "      <td>576.000000</td>\n",
       "      <td>576.000000</td>\n",
       "    </tr>\n",
       "    <tr>\n",
       "      <th>mean</th>\n",
       "      <td>121.060764</td>\n",
       "      <td>69.157986</td>\n",
       "    </tr>\n",
       "    <tr>\n",
       "      <th>std</th>\n",
       "      <td>32.311874</td>\n",
       "      <td>19.601447</td>\n",
       "    </tr>\n",
       "    <tr>\n",
       "      <th>min</th>\n",
       "      <td>0.000000</td>\n",
       "      <td>0.000000</td>\n",
       "    </tr>\n",
       "    <tr>\n",
       "      <th>25%</th>\n",
       "      <td>99.000000</td>\n",
       "      <td>64.000000</td>\n",
       "    </tr>\n",
       "    <tr>\n",
       "      <th>50%</th>\n",
       "      <td>117.000000</td>\n",
       "      <td>72.000000</td>\n",
       "    </tr>\n",
       "    <tr>\n",
       "      <th>75%</th>\n",
       "      <td>141.000000</td>\n",
       "      <td>80.000000</td>\n",
       "    </tr>\n",
       "    <tr>\n",
       "      <th>max</th>\n",
       "      <td>199.000000</td>\n",
       "      <td>122.000000</td>\n",
       "    </tr>\n",
       "  </tbody>\n",
       "</table>\n",
       "</div>"
      ],
      "text/plain": [
       "          Glucose  BloodPressure\n",
       "count  576.000000     576.000000\n",
       "mean   121.060764      69.157986\n",
       "std     32.311874      19.601447\n",
       "min      0.000000       0.000000\n",
       "25%     99.000000      64.000000\n",
       "50%    117.000000      72.000000\n",
       "75%    141.000000      80.000000\n",
       "max    199.000000     122.000000"
      ]
     },
     "execution_count": 34,
     "metadata": {},
     "output_type": "execute_result"
    }
   ],
   "source": [
    "X_train.describe()"
   ]
  },
  {
   "cell_type": "code",
   "execution_count": 35,
   "id": "fbe58fb6",
   "metadata": {},
   "outputs": [
    {
     "data": {
      "text/plain": [
       "array([[0.59798995, 0.40983607],\n",
       "       [0.45226131, 0.6557377 ],\n",
       "       [0.34170854, 0.57377049],\n",
       "       ...,\n",
       "       [0.47738693, 0.69672131],\n",
       "       [0.79396985, 0.57377049],\n",
       "       [0.70351759, 0.60655738]])"
      ]
     },
     "execution_count": 35,
     "metadata": {},
     "output_type": "execute_result"
    }
   ],
   "source": [
    "X_train_scaled=scaler.transform(X_train)\n",
    "X_train_scaled"
   ]
  },
  {
   "cell_type": "code",
   "execution_count": 36,
   "id": "c5bc9bea",
   "metadata": {},
   "outputs": [
    {
     "data": {
      "text/plain": [
       "array([[0.44285714, 0.38596491],\n",
       "       [0.99285714, 0.66666667],\n",
       "       [0.43571429, 0.50877193],\n",
       "       [0.42142857, 0.61403509],\n",
       "       [0.28571429, 0.52631579],\n",
       "       [0.37857143, 0.80701754],\n",
       "       [0.3       , 0.61403509],\n",
       "       [0.47857143, 0.63157895],\n",
       "       [0.63571429, 0.49122807],\n",
       "       [0.67142857, 0.78947368],\n",
       "       [0.11428571, 0.52631579],\n",
       "       [0.15714286, 0.70175439],\n",
       "       [0.31428571, 0.54385965],\n",
       "       [0.05714286, 0.63157895],\n",
       "       [0.23571429, 0.68421053],\n",
       "       [0.17857143, 0.45614035],\n",
       "       [0.87142857, 0.43859649],\n",
       "       [0.57857143, 0.71929825],\n",
       "       [0.50714286, 0.61403509],\n",
       "       [0.37142857, 0.77192982],\n",
       "       [0.82857143, 0.68421053],\n",
       "       [0.25714286, 0.49122807],\n",
       "       [0.32857143, 0.57894737],\n",
       "       [0.12857143, 0.71929825],\n",
       "       [0.19285714, 0.59649123],\n",
       "       [0.40714286, 0.70175439],\n",
       "       [0.61428571, 0.73684211],\n",
       "       [0.4       , 0.56140351],\n",
       "       [0.41428571, 0.        ],\n",
       "       [1.        , 0.64912281],\n",
       "       [0.36428571, 0.70175439],\n",
       "       [0.37142857, 0.52631579],\n",
       "       [0.28571429, 0.61403509],\n",
       "       [0.44285714, 0.        ],\n",
       "       [0.45      , 0.63157895],\n",
       "       [0.35      , 0.61403509],\n",
       "       [0.48571429, 0.59649123],\n",
       "       [0.25      , 0.70175439],\n",
       "       [0.31428571, 0.75438596],\n",
       "       [0.36428571, 0.54385965],\n",
       "       [0.43571429, 0.73684211],\n",
       "       [0.5       , 0.50877193],\n",
       "       [0.22857143, 0.78947368],\n",
       "       [0.41428571, 0.        ],\n",
       "       [0.42857143, 0.78947368],\n",
       "       [0.20714286, 0.59649123],\n",
       "       [0.88571429, 0.77192982],\n",
       "       [0.32142857, 0.75438596],\n",
       "       [0.46428571, 0.59649123],\n",
       "       [0.18571429, 0.68421053],\n",
       "       [0.57142857, 0.73684211],\n",
       "       [0.37857143, 0.59649123],\n",
       "       [0.47142857, 0.64912281],\n",
       "       [0.35      , 0.63157895],\n",
       "       [0.33571429, 0.56140351],\n",
       "       [0.60714286, 0.78947368],\n",
       "       [0.37142857, 0.66666667],\n",
       "       [0.62142857, 0.71929825],\n",
       "       [0.19285714, 0.43859649],\n",
       "       [0.16428571, 0.64912281],\n",
       "       [0.44285714, 0.75438596],\n",
       "       [0.35714286, 0.52631579],\n",
       "       [0.44285714, 0.57894737],\n",
       "       [0.84285714, 0.77192982],\n",
       "       [0.74285714, 0.43859649],\n",
       "       [0.52142857, 0.61403509],\n",
       "       [0.45      , 0.66666667],\n",
       "       [0.69285714, 0.54385965],\n",
       "       [0.61428571, 0.57894737],\n",
       "       [0.42857143, 0.52631579],\n",
       "       [0.17142857, 0.52631579],\n",
       "       [0.47857143, 0.66666667],\n",
       "       [0.63571429, 0.80701754],\n",
       "       [0.16428571, 0.48245614],\n",
       "       [0.42857143, 0.        ],\n",
       "       [0.9       , 0.56140351],\n",
       "       [0.21428571, 0.68421053],\n",
       "       [0.31428571, 0.50877193],\n",
       "       [0.27142857, 0.63157895],\n",
       "       [0.28571429, 0.66666667],\n",
       "       [0.61428571, 0.64912281],\n",
       "       [0.32857143, 0.26315789],\n",
       "       [0.34285714, 0.70175439],\n",
       "       [0.75      , 0.45614035],\n",
       "       [0.79285714, 0.77192982],\n",
       "       [0.39285714, 0.64912281],\n",
       "       [0.45714286, 0.68421053],\n",
       "       [0.47857143, 0.64912281],\n",
       "       [0.18571429, 0.57894737],\n",
       "       [0.50714286, 0.42105263],\n",
       "       [0.11428571, 0.        ],\n",
       "       [0.5       , 0.70175439],\n",
       "       [0.67857143, 0.78947368],\n",
       "       [0.50714286, 0.56140351],\n",
       "       [0.42857143, 0.54385965],\n",
       "       [0.60714286, 0.70175439],\n",
       "       [0.79285714, 0.64912281],\n",
       "       [0.42857143, 0.56140351],\n",
       "       [0.70714286, 0.75438596],\n",
       "       [0.77142857, 0.59649123],\n",
       "       [0.46428571, 0.56140351],\n",
       "       [0.32857143, 0.59649123],\n",
       "       [0.29285714, 0.71929825],\n",
       "       [0.40714286, 0.77192982],\n",
       "       [0.47857143, 0.61403509],\n",
       "       [0.35      , 0.49122807],\n",
       "       [0.82857143, 0.71929825],\n",
       "       [0.52142857, 0.56140351],\n",
       "       [0.25714286, 0.61403509],\n",
       "       [0.1       , 0.68421053],\n",
       "       [0.31428571, 0.50877193],\n",
       "       [0.38571429, 0.52631579],\n",
       "       [0.47857143, 0.61403509],\n",
       "       [0.50714286, 0.63157895],\n",
       "       [0.3       , 0.70175439],\n",
       "       [0.32142857, 0.66666667],\n",
       "       [0.95714286, 0.59649123],\n",
       "       [0.38571429, 0.57017544],\n",
       "       [0.97142857, 0.61403509],\n",
       "       [0.42142857, 0.64912281],\n",
       "       [0.3       , 0.52631579],\n",
       "       [0.45714286, 0.68421053],\n",
       "       [0.25714286, 0.52631579],\n",
       "       [0.67142857, 0.54385965],\n",
       "       [0.42857143, 0.80701754],\n",
       "       [0.17857143, 0.61403509],\n",
       "       [0.81428571, 0.96491228],\n",
       "       [0.64285714, 0.64912281],\n",
       "       [0.43571429, 0.70175439],\n",
       "       [1.        , 0.61403509],\n",
       "       [0.59285714, 0.57017544],\n",
       "       [0.46428571, 0.66666667],\n",
       "       [0.7       , 0.54385965],\n",
       "       [0.43571429, 0.61403509],\n",
       "       [0.22857143, 0.66666667],\n",
       "       [0.14285714, 0.49122807],\n",
       "       [0.24285714, 0.71929825],\n",
       "       [0.27857143, 0.49122807],\n",
       "       [0.16428571, 0.71929825],\n",
       "       [0.80714286, 0.64912281],\n",
       "       [0.30714286, 0.59649123],\n",
       "       [0.18571429, 0.50877193],\n",
       "       [0.28571429, 0.66666667],\n",
       "       [1.        , 0.61403509],\n",
       "       [0.49285714, 0.64912281],\n",
       "       [0.        , 0.70175439],\n",
       "       [0.7       , 0.73684211],\n",
       "       [0.72142857, 0.73684211],\n",
       "       [0.81428571, 0.63157895],\n",
       "       [0.21428571, 0.70175439],\n",
       "       [0.54285714, 0.89473684],\n",
       "       [0.2       , 0.57017544],\n",
       "       [0.54285714, 0.59649123],\n",
       "       [0.33571429, 0.63157895],\n",
       "       [0.18571429, 0.75438596],\n",
       "       [0.72142857, 1.        ],\n",
       "       [0.2       , 0.50877193],\n",
       "       [0.44285714, 0.        ],\n",
       "       [0.86428571, 0.73684211],\n",
       "       [0.44285714, 0.70175439],\n",
       "       [0.21428571, 0.50877193],\n",
       "       [0.47142857, 0.61403509],\n",
       "       [0.25      , 0.54385965],\n",
       "       [0.54285714, 0.77192982],\n",
       "       [0.73571429, 0.47368421],\n",
       "       [0.62857143, 0.        ],\n",
       "       [0.12142857, 0.59649123],\n",
       "       [0.36428571, 0.61403509],\n",
       "       [0.92857143, 0.43859649],\n",
       "       [0.49285714, 0.77192982],\n",
       "       [0.37142857, 0.49122807],\n",
       "       [0.46428571, 0.68421053],\n",
       "       [0.75      , 0.66666667],\n",
       "       [0.78571429, 0.64912281],\n",
       "       [0.41428571, 0.66666667],\n",
       "       [0.47142857, 0.54385965],\n",
       "       [0.48571429, 0.61403509],\n",
       "       [0.41428571, 0.61403509],\n",
       "       [0.26428571, 0.56140351],\n",
       "       [0.38571429, 0.8245614 ],\n",
       "       [0.21428571, 0.        ],\n",
       "       [0.        , 0.52631579],\n",
       "       [0.36428571, 0.59649123],\n",
       "       [0.75714286, 0.63157895],\n",
       "       [0.46428571, 0.52631579],\n",
       "       [0.95      , 0.80701754],\n",
       "       [0.35      , 0.80701754],\n",
       "       [0.3       , 0.63157895],\n",
       "       [0.72857143, 0.57894737],\n",
       "       [0.37857143, 0.57894737],\n",
       "       [0.38571429, 0.61403509],\n",
       "       [0.37857143, 0.64912281]])"
      ]
     },
     "execution_count": 36,
     "metadata": {},
     "output_type": "execute_result"
    }
   ],
   "source": [
    "scaler=MinMaxScaler().fit(X_test)\n"
   ]
  },
  {
   "cell_type": "code",
   "execution_count": 38,
   "id": "65237a74",
   "metadata": {},
   "outputs": [
    {
     "data": {
      "text/plain": [
       "array([57.,  0.])"
      ]
     },
     "execution_count": 38,
     "metadata": {},
     "output_type": "execute_result"
    }
   ],
   "source": [
    "scaler.data_min_"
   ]
  },
  {
   "cell_type": "code",
   "execution_count": 40,
   "id": "db0c055b",
   "metadata": {},
   "outputs": [
    {
     "data": {
      "text/plain": [
       "array([197., 114.])"
      ]
     },
     "execution_count": 40,
     "metadata": {},
     "output_type": "execute_result"
    }
   ],
   "source": [
    "scaler.data_max_"
   ]
  },
  {
   "cell_type": "code",
   "execution_count": 41,
   "id": "c9d313f9",
   "metadata": {},
   "outputs": [
    {
     "data": {
      "text/plain": [
       "array([[0.44285714, 0.38596491],\n",
       "       [0.99285714, 0.66666667],\n",
       "       [0.43571429, 0.50877193],\n",
       "       [0.42142857, 0.61403509],\n",
       "       [0.28571429, 0.52631579],\n",
       "       [0.37857143, 0.80701754],\n",
       "       [0.3       , 0.61403509],\n",
       "       [0.47857143, 0.63157895],\n",
       "       [0.63571429, 0.49122807],\n",
       "       [0.67142857, 0.78947368],\n",
       "       [0.11428571, 0.52631579],\n",
       "       [0.15714286, 0.70175439],\n",
       "       [0.31428571, 0.54385965],\n",
       "       [0.05714286, 0.63157895],\n",
       "       [0.23571429, 0.68421053],\n",
       "       [0.17857143, 0.45614035],\n",
       "       [0.87142857, 0.43859649],\n",
       "       [0.57857143, 0.71929825],\n",
       "       [0.50714286, 0.61403509],\n",
       "       [0.37142857, 0.77192982],\n",
       "       [0.82857143, 0.68421053],\n",
       "       [0.25714286, 0.49122807],\n",
       "       [0.32857143, 0.57894737],\n",
       "       [0.12857143, 0.71929825],\n",
       "       [0.19285714, 0.59649123],\n",
       "       [0.40714286, 0.70175439],\n",
       "       [0.61428571, 0.73684211],\n",
       "       [0.4       , 0.56140351],\n",
       "       [0.41428571, 0.        ],\n",
       "       [1.        , 0.64912281],\n",
       "       [0.36428571, 0.70175439],\n",
       "       [0.37142857, 0.52631579],\n",
       "       [0.28571429, 0.61403509],\n",
       "       [0.44285714, 0.        ],\n",
       "       [0.45      , 0.63157895],\n",
       "       [0.35      , 0.61403509],\n",
       "       [0.48571429, 0.59649123],\n",
       "       [0.25      , 0.70175439],\n",
       "       [0.31428571, 0.75438596],\n",
       "       [0.36428571, 0.54385965],\n",
       "       [0.43571429, 0.73684211],\n",
       "       [0.5       , 0.50877193],\n",
       "       [0.22857143, 0.78947368],\n",
       "       [0.41428571, 0.        ],\n",
       "       [0.42857143, 0.78947368],\n",
       "       [0.20714286, 0.59649123],\n",
       "       [0.88571429, 0.77192982],\n",
       "       [0.32142857, 0.75438596],\n",
       "       [0.46428571, 0.59649123],\n",
       "       [0.18571429, 0.68421053],\n",
       "       [0.57142857, 0.73684211],\n",
       "       [0.37857143, 0.59649123],\n",
       "       [0.47142857, 0.64912281],\n",
       "       [0.35      , 0.63157895],\n",
       "       [0.33571429, 0.56140351],\n",
       "       [0.60714286, 0.78947368],\n",
       "       [0.37142857, 0.66666667],\n",
       "       [0.62142857, 0.71929825],\n",
       "       [0.19285714, 0.43859649],\n",
       "       [0.16428571, 0.64912281],\n",
       "       [0.44285714, 0.75438596],\n",
       "       [0.35714286, 0.52631579],\n",
       "       [0.44285714, 0.57894737],\n",
       "       [0.84285714, 0.77192982],\n",
       "       [0.74285714, 0.43859649],\n",
       "       [0.52142857, 0.61403509],\n",
       "       [0.45      , 0.66666667],\n",
       "       [0.69285714, 0.54385965],\n",
       "       [0.61428571, 0.57894737],\n",
       "       [0.42857143, 0.52631579],\n",
       "       [0.17142857, 0.52631579],\n",
       "       [0.47857143, 0.66666667],\n",
       "       [0.63571429, 0.80701754],\n",
       "       [0.16428571, 0.48245614],\n",
       "       [0.42857143, 0.        ],\n",
       "       [0.9       , 0.56140351],\n",
       "       [0.21428571, 0.68421053],\n",
       "       [0.31428571, 0.50877193],\n",
       "       [0.27142857, 0.63157895],\n",
       "       [0.28571429, 0.66666667],\n",
       "       [0.61428571, 0.64912281],\n",
       "       [0.32857143, 0.26315789],\n",
       "       [0.34285714, 0.70175439],\n",
       "       [0.75      , 0.45614035],\n",
       "       [0.79285714, 0.77192982],\n",
       "       [0.39285714, 0.64912281],\n",
       "       [0.45714286, 0.68421053],\n",
       "       [0.47857143, 0.64912281],\n",
       "       [0.18571429, 0.57894737],\n",
       "       [0.50714286, 0.42105263],\n",
       "       [0.11428571, 0.        ],\n",
       "       [0.5       , 0.70175439],\n",
       "       [0.67857143, 0.78947368],\n",
       "       [0.50714286, 0.56140351],\n",
       "       [0.42857143, 0.54385965],\n",
       "       [0.60714286, 0.70175439],\n",
       "       [0.79285714, 0.64912281],\n",
       "       [0.42857143, 0.56140351],\n",
       "       [0.70714286, 0.75438596],\n",
       "       [0.77142857, 0.59649123],\n",
       "       [0.46428571, 0.56140351],\n",
       "       [0.32857143, 0.59649123],\n",
       "       [0.29285714, 0.71929825],\n",
       "       [0.40714286, 0.77192982],\n",
       "       [0.47857143, 0.61403509],\n",
       "       [0.35      , 0.49122807],\n",
       "       [0.82857143, 0.71929825],\n",
       "       [0.52142857, 0.56140351],\n",
       "       [0.25714286, 0.61403509],\n",
       "       [0.1       , 0.68421053],\n",
       "       [0.31428571, 0.50877193],\n",
       "       [0.38571429, 0.52631579],\n",
       "       [0.47857143, 0.61403509],\n",
       "       [0.50714286, 0.63157895],\n",
       "       [0.3       , 0.70175439],\n",
       "       [0.32142857, 0.66666667],\n",
       "       [0.95714286, 0.59649123],\n",
       "       [0.38571429, 0.57017544],\n",
       "       [0.97142857, 0.61403509],\n",
       "       [0.42142857, 0.64912281],\n",
       "       [0.3       , 0.52631579],\n",
       "       [0.45714286, 0.68421053],\n",
       "       [0.25714286, 0.52631579],\n",
       "       [0.67142857, 0.54385965],\n",
       "       [0.42857143, 0.80701754],\n",
       "       [0.17857143, 0.61403509],\n",
       "       [0.81428571, 0.96491228],\n",
       "       [0.64285714, 0.64912281],\n",
       "       [0.43571429, 0.70175439],\n",
       "       [1.        , 0.61403509],\n",
       "       [0.59285714, 0.57017544],\n",
       "       [0.46428571, 0.66666667],\n",
       "       [0.7       , 0.54385965],\n",
       "       [0.43571429, 0.61403509],\n",
       "       [0.22857143, 0.66666667],\n",
       "       [0.14285714, 0.49122807],\n",
       "       [0.24285714, 0.71929825],\n",
       "       [0.27857143, 0.49122807],\n",
       "       [0.16428571, 0.71929825],\n",
       "       [0.80714286, 0.64912281],\n",
       "       [0.30714286, 0.59649123],\n",
       "       [0.18571429, 0.50877193],\n",
       "       [0.28571429, 0.66666667],\n",
       "       [1.        , 0.61403509],\n",
       "       [0.49285714, 0.64912281],\n",
       "       [0.        , 0.70175439],\n",
       "       [0.7       , 0.73684211],\n",
       "       [0.72142857, 0.73684211],\n",
       "       [0.81428571, 0.63157895],\n",
       "       [0.21428571, 0.70175439],\n",
       "       [0.54285714, 0.89473684],\n",
       "       [0.2       , 0.57017544],\n",
       "       [0.54285714, 0.59649123],\n",
       "       [0.33571429, 0.63157895],\n",
       "       [0.18571429, 0.75438596],\n",
       "       [0.72142857, 1.        ],\n",
       "       [0.2       , 0.50877193],\n",
       "       [0.44285714, 0.        ],\n",
       "       [0.86428571, 0.73684211],\n",
       "       [0.44285714, 0.70175439],\n",
       "       [0.21428571, 0.50877193],\n",
       "       [0.47142857, 0.61403509],\n",
       "       [0.25      , 0.54385965],\n",
       "       [0.54285714, 0.77192982],\n",
       "       [0.73571429, 0.47368421],\n",
       "       [0.62857143, 0.        ],\n",
       "       [0.12142857, 0.59649123],\n",
       "       [0.36428571, 0.61403509],\n",
       "       [0.92857143, 0.43859649],\n",
       "       [0.49285714, 0.77192982],\n",
       "       [0.37142857, 0.49122807],\n",
       "       [0.46428571, 0.68421053],\n",
       "       [0.75      , 0.66666667],\n",
       "       [0.78571429, 0.64912281],\n",
       "       [0.41428571, 0.66666667],\n",
       "       [0.47142857, 0.54385965],\n",
       "       [0.48571429, 0.61403509],\n",
       "       [0.41428571, 0.61403509],\n",
       "       [0.26428571, 0.56140351],\n",
       "       [0.38571429, 0.8245614 ],\n",
       "       [0.21428571, 0.        ],\n",
       "       [0.        , 0.52631579],\n",
       "       [0.36428571, 0.59649123],\n",
       "       [0.75714286, 0.63157895],\n",
       "       [0.46428571, 0.52631579],\n",
       "       [0.95      , 0.80701754],\n",
       "       [0.35      , 0.80701754],\n",
       "       [0.3       , 0.63157895],\n",
       "       [0.72857143, 0.57894737],\n",
       "       [0.37857143, 0.57894737],\n",
       "       [0.38571429, 0.61403509],\n",
       "       [0.37857143, 0.64912281]])"
      ]
     },
     "execution_count": 41,
     "metadata": {},
     "output_type": "execute_result"
    }
   ],
   "source": [
    "X_test_scaled=scaler.transform(X_test)\n",
    "X_test_scaled"
   ]
  },
  {
   "cell_type": "code",
   "execution_count": 116,
   "id": "8398ed29",
   "metadata": {},
   "outputs": [
    {
     "name": "stdout",
     "output_type": "stream",
     "text": [
      "Mean Squared Error (scaled): 44.21458380988408\n"
     ]
    }
   ],
   "source": [
    "model = LinearRegression()\n",
    "model.fit(X_train_scaled, y_train)\n",
    "\n",
    " \n",
    "\n",
    "# Make predictions on the scaled testing data\n",
    "y_pred_scaled = model.predict(X_test_scaled)\n",
    "\n",
    " \n",
    "\n",
    "# Calculate Mean Squared Error (MSE) for scaled predictions\n",
    "mse_scaled = mean_squared_error(y_test, y_pred_scaled)\n",
    "\n",
    " \n",
    "\n",
    "print(\"Mean Squared Error (scaled):\", mse_scaled)\n",
    "\n",
    " "
   ]
  },
  {
   "cell_type": "code",
   "execution_count": 42,
   "id": "31b6ce43",
   "metadata": {},
   "outputs": [
    {
     "data": {
      "text/plain": [
       "array([27.99867002, 36.71742541, 29.62591126, 30.94862682, 28.54323081,\n",
       "       33.22647741, 29.87669479, 31.69453628, 31.14997549, 35.57025436,\n",
       "       27.02991501, 29.82295263, 29.03692098, 27.97430162, 30.27508484,\n",
       "       26.63152497, 32.50637211, 33.78465817, 31.70528472, 32.68048085,\n",
       "       35.5086353 , 27.80806978, 29.64597236, 29.8122042 , 28.68940155,\n",
       "       32.0298715 , 34.34140316, 30.03504974, 22.43409164, 36.53900937,\n",
       "       31.65154255, 29.29988871, 29.75058515, 22.68631094, 31.44231698,\n",
       "       30.31807857, 31.27464937, 30.64266536, 31.93457138, 29.47830475,\n",
       "       32.76503254, 30.19340469, 31.66085522, 22.43409164, 33.42639031,\n",
       "       28.8155112 , 37.22042824, 31.99762621, 31.0854849 , 29.83370107,\n",
       "       33.96307421, 30.328827  , 31.87295233, 30.55954944, 29.46755632,\n",
       "       35.00276094, 31.23165565, 34.16298712, 26.51616375, 29.16159486,\n",
       "       33.06955823, 29.17377906, 30.65484956, 36.84209929, 31.37138527,\n",
       "       31.83139437, 31.92525872, 32.37882669, 32.16816536, 29.80432731,\n",
       "       27.53435361, 32.17747802, 35.4964511 , 26.86762162, 22.56020129,\n",
       "       34.44888748, 30.08592036, 28.55397924, 29.86594636, 30.47499775,\n",
       "       33.13404882, 25.29949675, 31.46237808, 31.67591096, 36.40071552,\n",
       "       31.17934925, 32.22978441, 31.93600715, 28.38487586, 29.04910518,\n",
       "       19.785789  , 32.84958423, 35.63330919, 30.98087211, 30.04579817,\n",
       "       33.7954066 , 34.71041945, 30.28726904, 35.40258675, 33.79684237,\n",
       "       30.60254317, 29.88744323, 31.26246517, 32.99575497, 31.45306542,\n",
       "       28.6277825 , 35.99157704, 31.10698176, 29.49836585, 29.07704317,\n",
       "       28.55397924, 29.42599836, 31.45306542, 31.94675558, 31.08404913,\n",
       "       30.79027187, 35.43626782, 30.02967553, 35.80384833, 31.43156855,\n",
       "       28.66934046, 32.22978441, 28.29101151, 32.18966222, 33.66786118,\n",
       "       28.80476277, 39.24605953, 33.38626812, 32.2820908 , 36.05606763,\n",
       "       31.85826545, 32.05136837, 32.44188152, 31.07473647, 29.97055915,\n",
       "       26.79919258, 30.8210814 , 27.99723425, 30.12747832, 34.8365291 ,\n",
       "       29.69827875, 27.41899239, 30.47499775, 36.05606763, 32.0621168 ,\n",
       "       28.43574649, 35.09806106, 35.28722553, 34.65811305, 30.32739123,\n",
       "       35.88409272, 28.39025008, 31.77908797, 30.43343979, 30.79958453,\n",
       "       38.90928854, 27.54510204, 22.68631094, 36.54832203, 32.34514563,\n",
       "       27.67121169, 31.39001059, 28.46942755, 34.19379665, 31.79127218,\n",
       "       24.32573639, 28.05885331, 30.44418822, 33.01081071, 33.75241287,\n",
       "       28.81694697, 32.29283924, 34.57356136, 34.64736462, 31.60998459,\n",
       "       30.42412712, 31.51612024, 30.88557199, 28.83700807, 33.5310031 ,\n",
       "       20.66855655, 26.02103781, 30.20271735, 34.15367445, 30.11960143,\n",
       "       38.2708634 , 32.97425811, 30.11816566, 33.17704255, 30.08735613,\n",
       "       30.63335269, 31.0532396 ])"
      ]
     },
     "execution_count": 42,
     "metadata": {},
     "output_type": "execute_result"
    }
   ],
   "source": [
    "model = LinearRegression()\n",
    "model.fit(X_train_scaled, y_train)\n",
    "y_pred_scaled = model.predict(X_test_scaled)\n",
    "y_pred_scaled\n"
   ]
  },
  {
   "cell_type": "code",
   "execution_count": 54,
   "id": "1955adfc",
   "metadata": {},
   "outputs": [],
   "source": [
    "from sklearn.preprocessing import normalize"
   ]
  },
  {
   "cell_type": "code",
   "execution_count": 58,
   "id": "9e4cf6d7",
   "metadata": {},
   "outputs": [
    {
     "data": {
      "text/plain": [
       "array([[0.92192678, 0.38736419],\n",
       "       [0.74740932, 0.66436384],\n",
       "       [0.69678568, 0.71727938],\n",
       "       ...,\n",
       "       [0.74524131, 0.66679486],\n",
       "       [0.91428817, 0.40506438],\n",
       "       [0.88409494, 0.46730733]])"
      ]
     },
     "execution_count": 58,
     "metadata": {},
     "output_type": "execute_result"
    }
   ],
   "source": [
    "normalize_training_data=normalize(X_train,norm='l2')\n",
    "normalize_training_data"
   ]
  }
 ],
 "metadata": {
  "kernelspec": {
   "display_name": "Python 3 (ipykernel)",
   "language": "python",
   "name": "python3"
  },
  "language_info": {
   "codemirror_mode": {
    "name": "ipython",
    "version": 3
   },
   "file_extension": ".py",
   "mimetype": "text/x-python",
   "name": "python",
   "nbconvert_exporter": "python",
   "pygments_lexer": "ipython3",
   "version": "3.11.3"
  }
 },
 "nbformat": 4,
 "nbformat_minor": 5
}
