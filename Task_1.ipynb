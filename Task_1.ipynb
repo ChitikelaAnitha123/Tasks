{
  "nbformat": 4,
  "nbformat_minor": 0,
  "metadata": {
    "colab": {
      "provenance": []
    },
    "kernelspec": {
      "name": "python3",
      "display_name": "Python 3"
    },
    "language_info": {
      "name": "python"
    }
  },
  "cells": [
    {
      "cell_type": "code",
      "execution_count": null,
      "metadata": {
        "colab": {
          "base_uri": "https://localhost:8080/"
        },
        "id": "EUmhaMzJqYhC",
        "outputId": "10e3c189-3b53-4ca9-8cbd-82ba70184189"
      },
      "outputs": [
        {
          "output_type": "stream",
          "name": "stdout",
          "text": [
            "Anitha       50.0\n",
            "C             NaN\n",
            "deepika      10.0\n",
            "sangeetha    80.0\n",
            "dtype: float64\n"
          ]
        }
      ],
      "source": [
        "# creating series using dictionaries\n",
        "import pandas as pd\n",
        "\n",
        "# create a dictionary\n",
        "dictionary = {'Anitha': 50, 'deepika': 10, 'sangeetha': 80}\n",
        "\n",
        "# create a series\n",
        "series = pd.Series(dictionary, index=['Anitha', 'C', 'deepika', 'sangeetha'])\n",
        "\n",
        "print(series)"
      ]
    },
    {
      "cell_type": "code",
      "source": [
        "# creating dataframe using dictionaries and indexing\n",
        "import pandas as pd\n",
        "\n",
        "# Create a Python dictionary\n",
        "data = {'Name': ['Anitha', 'Rama', 'Deepika', 'sangeetha', 'Shiva'],\n",
        "        'Marks': [93, 88, 95, 75, 99],\n",
        "        'City': ['banglore', 'Pune', 'Delhi', 'chennai', 'Delhi']}\n",
        "\n",
        "# Create a Python list of Roll NOs\n",
        "Roll = [101, 102, 103, 104, 105]\n",
        "\n",
        "# Create a DataFrame from the dictionary\n",
        "# and set Roll column as the index\n",
        "# using DataFrame() function with index parameter\n",
        "df = pd.DataFrame(data, index = Roll)\n",
        "print(df)"
      ],
      "metadata": {
        "colab": {
          "base_uri": "https://localhost:8080/"
        },
        "id": "f5HWDuUltiXP",
        "outputId": "d7054e69-08e5-46e0-b5a0-90cbe04f674c"
      },
      "execution_count": null,
      "outputs": [
        {
          "output_type": "stream",
          "name": "stdout",
          "text": [
            "          Name  Marks      City\n",
            "101     Anitha     93  banglore\n",
            "102       Rama     88      Pune\n",
            "103    Deepika     95     Delhi\n",
            "104  sangeetha     75   chennai\n",
            "105      Shiva     99     Delhi\n"
          ]
        }
      ]
    },
    {
      "cell_type": "code",
      "source": [
        "# slicing of data from datframes\n",
        "# importing pandas library\n",
        "import pandas as pd\n",
        "\n",
        "# Initializing the nested list with Data set\n",
        "players = {'Name':['M.S.Dhoni', 'Sachin','V.Kholi','Shubham gill','Hardik pandya', 'Jadeja', 'Rayudu'],\n",
        "            'Age':[42,40,34,36,35,45,50],\n",
        "            'Weight':[75,85,65,78,87,98,68],\n",
        "            'Salary':[54230,23456,99999,98765,80976,54670,10111]}\n",
        "\n",
        "# creating a pandas dataframe\n",
        "df = pd.DataFrame(players, columns=['Name', 'Age', 'Weight', 'Salary'])\n",
        "\n",
        "# data frame before slicing\n",
        "print(df)\n",
        "# slicing\n",
        "df1 = df.iloc[0:4]\n",
        "print(df1)\n",
        "# Slicing columnss in data frame\n",
        "df2 = df.iloc[:, 0:2]\n",
        "print(df2)"
      ],
      "metadata": {
        "colab": {
          "base_uri": "https://localhost:8080/"
        },
        "id": "yaRC4htovS7_",
        "outputId": "40088974-c409-4925-d586-c9841f6d3484"
      },
      "execution_count": null,
      "outputs": [
        {
          "output_type": "stream",
          "name": "stdout",
          "text": [
            "            Name  Age  Weight  Salary\n",
            "0      M.S.Dhoni   42      75   54230\n",
            "1         Sachin   40      85   23456\n",
            "2        V.Kholi   34      65   99999\n",
            "3   Shubham gill   36      78   98765\n",
            "4  Hardik pandya   35      87   80976\n",
            "5         Jadeja   45      98   54670\n",
            "6         Rayudu   50      68   10111\n",
            "           Name  Age  Weight  Salary\n",
            "0     M.S.Dhoni   42      75   54230\n",
            "1        Sachin   40      85   23456\n",
            "2       V.Kholi   34      65   99999\n",
            "3  Shubham gill   36      78   98765\n",
            "            Name  Age\n",
            "0      M.S.Dhoni   42\n",
            "1         Sachin   40\n",
            "2        V.Kholi   34\n",
            "3   Shubham gill   36\n",
            "4  Hardik pandya   35\n",
            "5         Jadeja   45\n",
            "6         Rayudu   50\n"
          ]
        }
      ]
    },
    {
      "cell_type": "code",
      "source": [
        "#Filtering of data from dataframe\n",
        "import pandas as pd\n",
        "\n",
        "# Initializing the nested list with Data set\n",
        "players = {'Name':['M.S.Dhoni', 'Sachin','V.Kholi','Shubham gill','Hardik pandya', 'Jadeja', 'Rayudu'],\n",
        "            'Age':[42,50,34,36,35,45,47],\n",
        "            'Weight':[75,85,65,78,87,98,68],\n",
        "            'Salary':[54230,23456,99999,98765,80976,54670,10111]}\n",
        "\n",
        "# creating a pandas dataframe\n",
        "df = pd.DataFrame(players, columns=['Name', 'Age', 'Weight', 'Salary'])\n",
        "filtered_df = df[df['Age'] > 45]\n",
        "print(filtered_df)\n"
      ],
      "metadata": {
        "colab": {
          "base_uri": "https://localhost:8080/"
        },
        "id": "S3xUnPgJyZQX",
        "outputId": "4e949390-3728-4f8c-df6b-2e2cd8714b48"
      },
      "execution_count": null,
      "outputs": [
        {
          "output_type": "stream",
          "name": "stdout",
          "text": [
            "     Name  Age  Weight  Salary\n",
            "1  Sachin   50      85   23456\n",
            "6  Rayudu   47      68   10111\n"
          ]
        }
      ]
    },
    {
      "cell_type": "code",
      "source": [
        "#Modifing data\n",
        "import pandas as pd\n",
        "\n",
        "# Initializing the nested list with Data set\n",
        "players = {'Name':['M.S.Dhoni', 'Sachin','V.Kholi','Shubham gill','Hardik pandya', 'Jadeja', 'Rayudu'],\n",
        "            'Age':[42,50,34,36,35,45,47],\n",
        "            'Weight':[75,85,65,78,87,98,68],\n",
        "            'Salary':[54230,23456,99999,98765,80976,54670,10111]}\n",
        "\n",
        "# creating a pandas dataframe\n",
        "df = pd.DataFrame(players, columns=['Name', 'Age', 'Weight', 'Salary'])\n",
        "grouped_df = df.groupby('Name').agg({'Age': 'mean'})\n",
        "print(grouped_df)\n"
      ],
      "metadata": {
        "colab": {
          "base_uri": "https://localhost:8080/"
        },
        "id": "puw9NCB-0hkP",
        "outputId": "4ebc0b03-7919-4c0e-bdd9-35435bcedfd7"
      },
      "execution_count": null,
      "outputs": [
        {
          "output_type": "stream",
          "name": "stdout",
          "text": [
            "            Name  Age  Weight  Salary\n",
            "0      M.S.Dhoni   42      75  104230\n",
            "1         Sachin   50      85   73456\n",
            "2        V.Kholi   34      65  149999\n",
            "3   Shubham gill   36      78  148765\n",
            "4  Hardik pandya   35      87  130976\n",
            "5         Jadeja   45      98  104670\n",
            "6         Rayudu   47      68   60111\n",
            "                Age\n",
            "Name               \n",
            "Hardik pandya  35.0\n",
            "Jadeja         45.0\n",
            "M.S.Dhoni      42.0\n",
            "Rayudu         47.0\n",
            "Sachin         50.0\n",
            "Shubham gill   36.0\n",
            "V.Kholi        34.0\n"
          ]
        }
      ]
    },
    {
      "cell_type": "code",
      "source": [
        "# merging data\n",
        "import pandas as pd\n",
        "\n",
        "# Initializing the nested list with Data set\n",
        "players = {'Name':['M.S.Dhoni', 'Sachin','V.Kholi','Shubham gill','Hardik pandya', 'Jadeja', 'Rayudu'],\n",
        "            'Age':[42,50,34,36,35,45,47],\n",
        "            'Weight':[75,85,65,78,87,98,68],\n",
        "            'Salary':[54230,23456,99999,98765,80976,54670,10111]}\n",
        "\n",
        "# creating a pandas dataframe\n",
        "df = pd.DataFrame(players, columns=['Name', 'Age', 'Weight', 'Salary'])\n",
        "print(df)\n",
        "import pandas as pd\n",
        "\n",
        "# Initializing the nested list with Data set\n",
        "wifes = {'Name':['Sakshi', 'Anjali','Anushka','Sara','Natasha', 'Raviba', 'vidya'],\n",
        "            'Age':[34,55,35,25,35,38,27],\n",
        "            'Weight':[65,75,55,48,50,58,68],\n",
        "            'Salary':[54230,23456,99999,98765,80976,54670,10111]}\n",
        "\n",
        "# creating a pandas dataframe\n",
        "df1 = pd.DataFrame(players, columns=['Name', 'Age', 'Weight', 'Salary'])\n",
        "df2 = pd.DataFrame(wifes, columns=['Name', 'Age', 'Weight', 'Salary'])\n",
        "pd.merge(df1, df2, on='Age')\n",
        "print(pd.concat([df1, df2]))"
      ],
      "metadata": {
        "colab": {
          "base_uri": "https://localhost:8080/"
        },
        "id": "oXwvAGHJ1PYS",
        "outputId": "a0a21252-ce82-494e-e9b6-5ef24df7d426"
      },
      "execution_count": null,
      "outputs": [
        {
          "output_type": "stream",
          "name": "stdout",
          "text": [
            "            Name  Age  Weight  Salary\n",
            "0      M.S.Dhoni   42      75   54230\n",
            "1         Sachin   50      85   23456\n",
            "2        V.Kholi   34      65   99999\n",
            "3   Shubham gill   36      78   98765\n",
            "4  Hardik pandya   35      87   80976\n",
            "5         Jadeja   45      98   54670\n",
            "6         Rayudu   47      68   10111\n",
            "            Name  Age  Weight  Salary\n",
            "0      M.S.Dhoni   42      75   54230\n",
            "1         Sachin   50      85   23456\n",
            "2        V.Kholi   34      65   99999\n",
            "3   Shubham gill   36      78   98765\n",
            "4  Hardik pandya   35      87   80976\n",
            "5         Jadeja   45      98   54670\n",
            "6         Rayudu   47      68   10111\n",
            "0         Sakshi   34      65   54230\n",
            "1         Anjali   55      75   23456\n",
            "2        Anushka   35      55   99999\n",
            "3           Sara   25      48   98765\n",
            "4        Natasha   35      50   80976\n",
            "5         Raviba   38      58   54670\n",
            "6          vidya   27      68   10111\n"
          ]
        }
      ]
    },
    {
      "cell_type": "code",
      "source": [
        "#Grouping using aggertion function\n",
        "import pandas as pd\n",
        "\n",
        "# Initializing the nested list with Data set\n",
        "players = {'Name':['M.S.Dhoni', 'Sachin','V.Kholi','Shubham gill','Hardik pandya', 'Jadeja', 'Rayudu','Sakshi', 'Anjali','Anushka','Sara','Natasha', 'Raviba', 'vidya'],\n",
        "            'Age':[42,50,34,36,35,45,47,34,55,35,25,35,38,27],\n",
        "            'Weight':[75,85,65,78,87,98,68,65,75,55,48,50,58,68],\n",
        "            'Salary':[54230,23456,99999,98765,80976,54670,10111,54230,23456,99999,98765,80976,54670,10111],\n",
        "            'Gender':['Male','Male','Male','Male','Male','Male','Male','Female','Female','Female','Female','Female','Female','Female',]\n",
        "           }\n",
        "\n",
        "# creating a pandas dataframe\n",
        "df = pd.DataFrame(players, columns=['Name', 'Age', 'Weight', 'Salary','Gender'])\n",
        "print(df)\n",
        "grouped_df = df.groupby('Gender').agg({'Age': 'mean'})\n",
        "print(grouped_df)"
      ],
      "metadata": {
        "colab": {
          "base_uri": "https://localhost:8080/"
        },
        "id": "jF5_L8Ga6AuI",
        "outputId": "b5d4f46d-b869-4e2b-d5fc-820fda3c8605"
      },
      "execution_count": null,
      "outputs": [
        {
          "output_type": "stream",
          "name": "stdout",
          "text": [
            "             Name  Age  Weight  Salary  Gender\n",
            "0       M.S.Dhoni   42      75   54230    Male\n",
            "1          Sachin   50      85   23456    Male\n",
            "2         V.Kholi   34      65   99999    Male\n",
            "3    Shubham gill   36      78   98765    Male\n",
            "4   Hardik pandya   35      87   80976    Male\n",
            "5          Jadeja   45      98   54670    Male\n",
            "6          Rayudu   47      68   10111    Male\n",
            "7          Sakshi   34      65   54230  Female\n",
            "8          Anjali   55      75   23456  Female\n",
            "9         Anushka   35      55   99999  Female\n",
            "10           Sara   25      48   98765  Female\n",
            "11        Natasha   35      50   80976  Female\n",
            "12         Raviba   38      58   54670  Female\n",
            "13          vidya   27      68   10111  Female\n",
            "              Age\n",
            "Gender           \n",
            "Female  35.571429\n",
            "Male    41.285714\n"
          ]
        }
      ]
    },
    {
      "cell_type": "code",
      "source": [
        "#Handling Missing Data in Pandas\n",
        "\n",
        "\n",
        "\n",
        "import pandas as pd\n",
        "\n",
        "import numpy as np\n",
        "\n",
        "df = pd.DataFrame.from_dict({\n",
        "\n",
        "    'Name': ['Ramcharan', 'NTR', 'Alluarjun', 'Prabhas', np.NaN],\n",
        "\n",
        "    'Age': [33, 32, 40, 57, np.NaN],\n",
        "\n",
        "    'Location': ['Hyderabad', 'chennai', 'New York', np.NaN, np.NaN]\n",
        "\n",
        "})\n",
        "\n",
        "print(df)\n",
        "\n",
        "print(df.isnull())\n",
        "print(df.isnull().sum())\n",
        "df = df.fillna('NA')\n",
        "\n",
        "print(df)\n"
      ],
      "metadata": {
        "colab": {
          "base_uri": "https://localhost:8080/"
        },
        "id": "u9jpanrB7X1E",
        "outputId": "7092c77b-b55a-4a41-d3da-f8aeaed702f1"
      },
      "execution_count": null,
      "outputs": [
        {
          "output_type": "stream",
          "name": "stdout",
          "text": [
            "        Name   Age   Location\n",
            "0  Ramcharan  33.0  Hyderabad\n",
            "1        NTR  32.0    chennai\n",
            "2  Alluarjun  40.0   New York\n",
            "3    Prabhas  57.0        NaN\n",
            "4        NaN   NaN        NaN\n",
            "    Name    Age  Location\n",
            "0  False  False     False\n",
            "1  False  False     False\n",
            "2  False  False     False\n",
            "3  False  False      True\n",
            "4   True   True      True\n",
            "Name        1\n",
            "Age         1\n",
            "Location    2\n",
            "dtype: int64\n",
            "        Name   Age   Location\n",
            "0  Ramcharan  33.0  Hyderabad\n",
            "1        NTR  32.0    chennai\n",
            "2  Alluarjun  40.0   New York\n",
            "3    Prabhas  57.0         NA\n",
            "4         NA    NA         NA\n"
          ]
        }
      ]
    },
    {
      "cell_type": "code",
      "source": [
        "#handling duplicates\n",
        "import pandas as pd\n",
        "\n",
        "df = pd.DataFrame.from_dict({\n",
        "\n",
        "    'Name': ['Ntr', 'Karthik', 'ramcharan', 'alluarjun', 'Ntr', 'vijay'],\n",
        "\n",
        "    'Age': [33, 32, 40, 57, 33, 32],\n",
        "\n",
        "    'Location': ['Toronto', 'London', 'New York', 'Atlanta', 'Toronto', 'Paris'],\n",
        "\n",
        "    'Date Modified': ['2022-01-01', '2022-02-24', '2022-08-12', '2022-09-12', '2022-01-01', '2022-12-09']\n",
        "\n",
        "})\n",
        "\n",
        "\n",
        "\n",
        "\n",
        "print(df)\n",
        "print(df.duplicated())\n",
        "\n",
        "print(df.duplicated().sum())"
      ],
      "metadata": {
        "colab": {
          "base_uri": "https://localhost:8080/"
        },
        "id": "_wQNWFd18QFN",
        "outputId": "5c2ef523-e490-4507-b758-3ed65f5be1fd"
      },
      "execution_count": null,
      "outputs": [
        {
          "output_type": "stream",
          "name": "stdout",
          "text": [
            "        Name  Age  Location Date Modified\n",
            "0        Ntr   33   Toronto    2022-01-01\n",
            "1    Karthik   32    London    2022-02-24\n",
            "2  ramcharan   40  New York    2022-08-12\n",
            "3  alluarjun   57   Atlanta    2022-09-12\n",
            "4        Ntr   33   Toronto    2022-01-01\n",
            "5      vijay   32     Paris    2022-12-09\n",
            "0    False\n",
            "1    False\n",
            "2    False\n",
            "3    False\n",
            "4     True\n",
            "5    False\n",
            "dtype: bool\n",
            "1\n"
          ]
        }
      ]
    }
  ]
}